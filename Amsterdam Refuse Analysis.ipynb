{
 "cells": [
  {
   "cell_type": "markdown",
   "id": "02762603",
   "metadata": {},
   "source": [
    "## Amsterdam Refuse Analysis"
   ]
  },
  {
   "cell_type": "markdown",
   "id": "42744ba9",
   "metadata": {},
   "source": [
    "This analysis uses public data accessible from the [Amsterdam Gemente Data API](https://api.data.amsterdam.nl/v1/docs/index.html). Data from the Containers and Weighing datasets are cleaned in Pandas and then visualized using Matplotlib. "
   ]
  },
  {
   "cell_type": "code",
   "execution_count": 259,
   "id": "c48e6660",
   "metadata": {},
   "outputs": [],
   "source": [
    "import requests\n",
    "import pandas as pd\n",
    "import waste_creds\n",
    "from io import BytesIO\n",
    "import csv\n",
    "from pandas import json_normalize\n",
    "import time\n",
    "import matplotlib.pyplot as plt\n",
    "from datetime import datetime\n",
    "import pandas as pd\n",
    "pd.options.mode.chained_assignment = None"
   ]
  },
  {
   "cell_type": "markdown",
   "id": "3707a9cb",
   "metadata": {},
   "source": [
    "## Data Cleaning"
   ]
  },
  {
   "cell_type": "markdown",
   "id": "0b071137",
   "metadata": {},
   "source": [
    "The data is cleaned in a number of steps. First missing values pertinent to the analyses and duplciate rows are located and dealt with. A variable with confusing categories is then cleaned using a function. Further cleaning particular to each analysis comes later. "
   ]
  },
  {
   "cell_type": "code",
   "execution_count": 329,
   "id": "cb61d163",
   "metadata": {},
   "outputs": [],
   "source": [
    "containerlocatie = pd.read_csv(\"containerlocatie.csv\") # Load the datasets\n",
    "container = pd.read_csv(\"container.csv\")"
   ]
  },
  {
   "cell_type": "code",
   "execution_count": 330,
   "id": "48647a52",
   "metadata": {},
   "outputs": [
    {
     "name": "stdout",
     "output_type": "stream",
     "text": [
      "<class 'pandas.core.frame.DataFrame'>\n",
      "RangeIndex: 2007 entries, 0 to 2006\n",
      "Data columns (total 41 columns):\n",
      " #   Column                           Non-Null Count  Dtype  \n",
      "---  ------                           --------------  -----  \n",
      " 0   id                               2000 non-null   float64\n",
      " 1   idNummer                         2000 non-null   object \n",
      " 2   serienummer                      2000 non-null   object \n",
      " 3   clusterId                        1451 non-null   object \n",
      " 4   eigenaarId                       2000 non-null   float64\n",
      " 5   eigenaarNaam                     2007 non-null   object \n",
      " 6   status                           2007 non-null   int64  \n",
      " 7   fractieCode                      1999 non-null   float64\n",
      " 8   fractieOmschrijving              2006 non-null   object \n",
      " 9   datumCreatie                     2007 non-null   object \n",
      " 10  datumPlaatsing                   2007 non-null   object \n",
      " 11  datumOperationeel                1762 non-null   object \n",
      " 12  datumAflopenGarantie             1838 non-null   object \n",
      " 13  datumOplevering                  1995 non-null   object \n",
      " 14  wijzigingsdatumDp                2000 non-null   object \n",
      " 15  verwijderdDp                     2000 non-null   object \n",
      " 16  geadopteerdInd                   2000 non-null   object \n",
      " 17  locatieId                        1965 non-null   float64\n",
      " 18  typeId                           2000 non-null   float64\n",
      " 19  bagHoofdadresVerblijfsobjectId   1451 non-null   float64\n",
      " 20  gbdBuurtId                       1965 non-null   float64\n",
      " 21  bagOpenbareruimteId              1451 non-null   float64\n",
      " 22  bagNummeraanduidingId            1451 non-null   float64\n",
      " 23  containerRalKleurNaam            275 non-null    object \n",
      " 24  containerRalKleurCode            275 non-null    float64\n",
      " 25  containerRalKleurHexcode         275 non-null    object \n",
      " 26  containerChipNummber             3 non-null      object \n",
      " 27  containerUnitCardLezerId         0 non-null      float64\n",
      " 28  containerKleur                   1937 non-null   object \n",
      " 29  containerMark                    1573 non-null   float64\n",
      " 30  containerDatumVervanging         1588 non-null   object \n",
      " 31  containerDatumWijziging          2000 non-null   object \n",
      " 32  containerEndOfLife               58 non-null     object \n",
      " 33  containerEigenaarschap           1679 non-null   object \n",
      " 34  containerEigenaarschapOpmerking  1679 non-null   object \n",
      " 35  containerOpmerking               272 non-null    object \n",
      " 36  geometrie.type                   1965 non-null   object \n",
      " 37  geometrie.coordinates            1965 non-null   object \n",
      " 38  Unnamed: 38                      1443 non-null   object \n",
      " 39  Unnamed: 39                      1443 non-null   object \n",
      " 40  Unnamed: 40                      1443 non-null   object \n",
      "dtypes: float64(12), int64(1), object(28)\n",
      "memory usage: 643.0+ KB\n"
     ]
    }
   ],
   "source": [
    "container.info() # Info provides a quick way to understand what variables are in the dataset. "
   ]
  },
  {
   "cell_type": "code",
   "execution_count": 331,
   "id": "528fe27e",
   "metadata": {},
   "outputs": [
    {
     "data": {
      "text/plain": [
       "id                                    7\n",
       "idNummer                              7\n",
       "serienummer                           7\n",
       "clusterId                           556\n",
       "eigenaarId                            7\n",
       "eigenaarNaam                          0\n",
       "status                                0\n",
       "fractieCode                           8\n",
       "fractieOmschrijving                   1\n",
       "datumCreatie                          0\n",
       "datumPlaatsing                        0\n",
       "datumOperationeel                   245\n",
       "datumAflopenGarantie                169\n",
       "datumOplevering                      12\n",
       "wijzigingsdatumDp                     7\n",
       "verwijderdDp                          7\n",
       "geadopteerdInd                        7\n",
       "locatieId                            42\n",
       "typeId                                7\n",
       "bagHoofdadresVerblijfsobjectId      556\n",
       "gbdBuurtId                           42\n",
       "bagOpenbareruimteId                 556\n",
       "bagNummeraanduidingId               556\n",
       "containerRalKleurNaam              1732\n",
       "containerRalKleurCode              1732\n",
       "containerRalKleurHexcode           1732\n",
       "containerChipNummber               2004\n",
       "containerUnitCardLezerId           2007\n",
       "containerKleur                       70\n",
       "containerMark                       434\n",
       "containerDatumVervanging            419\n",
       "containerDatumWijziging               7\n",
       "containerEndOfLife                 1949\n",
       "containerEigenaarschap              328\n",
       "containerEigenaarschapOpmerking     328\n",
       "containerOpmerking                 1735\n",
       "geometrie.type                       42\n",
       "geometrie.coordinates                42\n",
       "Unnamed: 38                         564\n",
       "Unnamed: 39                         564\n",
       "Unnamed: 40                         564\n",
       "dtype: int64"
      ]
     },
     "execution_count": 331,
     "metadata": {},
     "output_type": "execute_result"
    }
   ],
   "source": [
    "container.isnull().sum() # An overview of the NA values in the data frame."
   ]
  },
  {
   "cell_type": "markdown",
   "id": "87fade2e",
   "metadata": {},
   "source": [
    "We can use subsetting to find the rows where there is missing values and investigate. In this instance I searched online and found another dataset [here](https://www.google.com/url?sa=t&source=web&rct=j&opi=89978449&url=https://www.tenderned.nl/papi/tenderned-rs-tns/v2/publicaties/137453/documenten/3477312/content&ved=2ahUKEwjqt-GkjfSFAxUGhf0HHeEpD-gQFnoECBAQAQ&usg=AOvVaw2BGFiuPodIctx1MZz72fXb) (Careful, this link will automatically open the dataset) that shows the container is 'KCA' or Household Hazardous Waste. As this is not a category for the rest of the containers in the dataset I made the decision to remove the item. Other options for dealing with this missing data include...\n",
    "- Gauge the quality of the secondary data I found (Which contains other 'KCA' waste containers) and integrate that data here.\n",
    "- Make a decision about how the KCA category might map on to the categories of the fractieOmschrijving variable and recode it accordingly. "
   ]
  },
  {
   "cell_type": "code",
   "execution_count": 332,
   "id": "7926bdbf",
   "metadata": {},
   "outputs": [
    {
     "data": {
      "text/html": [
       "<div>\n",
       "<style scoped>\n",
       "    .dataframe tbody tr th:only-of-type {\n",
       "        vertical-align: middle;\n",
       "    }\n",
       "\n",
       "    .dataframe tbody tr th {\n",
       "        vertical-align: top;\n",
       "    }\n",
       "\n",
       "    .dataframe thead th {\n",
       "        text-align: right;\n",
       "    }\n",
       "</style>\n",
       "<table border=\"1\" class=\"dataframe\">\n",
       "  <thead>\n",
       "    <tr style=\"text-align: right;\">\n",
       "      <th></th>\n",
       "      <th>id</th>\n",
       "      <th>idNummer</th>\n",
       "      <th>serienummer</th>\n",
       "      <th>clusterId</th>\n",
       "      <th>eigenaarId</th>\n",
       "      <th>eigenaarNaam</th>\n",
       "      <th>status</th>\n",
       "      <th>fractieCode</th>\n",
       "      <th>fractieOmschrijving</th>\n",
       "      <th>datumCreatie</th>\n",
       "      <th>...</th>\n",
       "      <th>containerDatumWijziging</th>\n",
       "      <th>containerEndOfLife</th>\n",
       "      <th>containerEigenaarschap</th>\n",
       "      <th>containerEigenaarschapOpmerking</th>\n",
       "      <th>containerOpmerking</th>\n",
       "      <th>geometrie.type</th>\n",
       "      <th>geometrie.coordinates</th>\n",
       "      <th>Unnamed: 38</th>\n",
       "      <th>Unnamed: 39</th>\n",
       "      <th>Unnamed: 40</th>\n",
       "    </tr>\n",
       "  </thead>\n",
       "  <tbody>\n",
       "    <tr>\n",
       "      <th>186</th>\n",
       "      <td>102244.0</td>\n",
       "      <td>blipvert</td>\n",
       "      <td>BATMP00002</td>\n",
       "      <td>NaN</td>\n",
       "      <td>184.0</td>\n",
       "      <td>Amsterdam Dump Locatie</td>\n",
       "      <td>0</td>\n",
       "      <td>NaN</td>\n",
       "      <td>NaN</td>\n",
       "      <td>13/04/2018</td>\n",
       "      <td>...</td>\n",
       "      <td>2018-10-24T00:00:00</td>\n",
       "      <td>NaN</td>\n",
       "      <td>Gehuurd</td>\n",
       "      <td>De klant huurt de container van Bammens</td>\n",
       "      <td>NaN</td>\n",
       "      <td>Point</td>\n",
       "      <td>[118758.27028057116, 486566.1161405434]</td>\n",
       "      <td>NaN</td>\n",
       "      <td>NaN</td>\n",
       "      <td>NaN</td>\n",
       "    </tr>\n",
       "  </tbody>\n",
       "</table>\n",
       "<p>1 rows × 41 columns</p>\n",
       "</div>"
      ],
      "text/plain": [
       "           id  idNummer serienummer clusterId  eigenaarId  \\\n",
       "186  102244.0  blipvert  BATMP00002       NaN       184.0   \n",
       "\n",
       "               eigenaarNaam  status  fractieCode fractieOmschrijving  \\\n",
       "186  Amsterdam Dump Locatie       0          NaN                 NaN   \n",
       "\n",
       "    datumCreatie  ... containerDatumWijziging containerEndOfLife  \\\n",
       "186   13/04/2018  ...     2018-10-24T00:00:00                NaN   \n",
       "\n",
       "    containerEigenaarschap          containerEigenaarschapOpmerking  \\\n",
       "186                Gehuurd  De klant huurt de container van Bammens   \n",
       "\n",
       "    containerOpmerking geometrie.type  \\\n",
       "186                NaN          Point   \n",
       "\n",
       "                       geometrie.coordinates  Unnamed: 38  Unnamed: 39  \\\n",
       "186  [118758.27028057116, 486566.1161405434]          NaN          NaN   \n",
       "\n",
       "     Unnamed: 40  \n",
       "186          NaN  \n",
       "\n",
       "[1 rows x 41 columns]"
      ]
     },
     "execution_count": 332,
     "metadata": {},
     "output_type": "execute_result"
    }
   ],
   "source": [
    "container[container.fractieOmschrijving.isnull()]"
   ]
  },
  {
   "cell_type": "code",
   "execution_count": 333,
   "id": "db366982",
   "metadata": {},
   "outputs": [],
   "source": [
    "container = container[~container.fractieOmschrijving.isnull()] # Remove the row with NA values."
   ]
  },
  {
   "cell_type": "code",
   "execution_count": 334,
   "id": "12c75ca7",
   "metadata": {},
   "outputs": [],
   "source": [
    "def cleaner(x):\n",
    "    if 'Amsterdam Dump Locatie' in x:\n",
    "        return(x)\n",
    "    else:\n",
    "        return(x.split(' ')[1])"
   ]
  },
  {
   "cell_type": "code",
   "execution_count": 335,
   "id": "e5c01242",
   "metadata": {},
   "outputs": [],
   "source": [
    "container['eigenaarNaam'] = container.eigenaarNaam.apply(lambda x: cleaner(x))"
   ]
  },
  {
   "cell_type": "markdown",
   "id": "99145711",
   "metadata": {},
   "source": [
    "## Bar Chart of Containers per District"
   ]
  },
  {
   "cell_type": "code",
   "execution_count": 326,
   "id": "375b4b3a",
   "metadata": {},
   "outputs": [],
   "source": [
    "count_data = container.groupby('eigenaarNaam')['fractieOmschrijving'].value_counts().unstack(fill_value=0)"
   ]
  },
  {
   "cell_type": "code",
   "execution_count": 327,
   "id": "f96270f5",
   "metadata": {},
   "outputs": [
    {
     "data": {
      "text/html": [
       "<div>\n",
       "<style scoped>\n",
       "    .dataframe tbody tr th:only-of-type {\n",
       "        vertical-align: middle;\n",
       "    }\n",
       "\n",
       "    .dataframe tbody tr th {\n",
       "        vertical-align: top;\n",
       "    }\n",
       "\n",
       "    .dataframe thead th {\n",
       "        text-align: right;\n",
       "    }\n",
       "</style>\n",
       "<table border=\"1\" class=\"dataframe\">\n",
       "  <thead>\n",
       "    <tr style=\"text-align: right;\">\n",
       "      <th>fractieOmschrijving</th>\n",
       "      <th>Glas</th>\n",
       "      <th>Papier</th>\n",
       "      <th>Plastic</th>\n",
       "      <th>Rest</th>\n",
       "      <th>Textiel</th>\n",
       "    </tr>\n",
       "    <tr>\n",
       "      <th>eigenaarNaam</th>\n",
       "      <th></th>\n",
       "      <th></th>\n",
       "      <th></th>\n",
       "      <th></th>\n",
       "      <th></th>\n",
       "    </tr>\n",
       "  </thead>\n",
       "  <tbody>\n",
       "    <tr>\n",
       "      <th>Amsterdam</th>\n",
       "      <td>0</td>\n",
       "      <td>0</td>\n",
       "      <td>0</td>\n",
       "      <td>10</td>\n",
       "      <td>0</td>\n",
       "    </tr>\n",
       "    <tr>\n",
       "      <th>Amsterdam Dump Locatie</th>\n",
       "      <td>76</td>\n",
       "      <td>88</td>\n",
       "      <td>13</td>\n",
       "      <td>422</td>\n",
       "      <td>6</td>\n",
       "    </tr>\n",
       "    <tr>\n",
       "      <th>Centrum</th>\n",
       "      <td>3</td>\n",
       "      <td>5</td>\n",
       "      <td>0</td>\n",
       "      <td>6</td>\n",
       "      <td>1</td>\n",
       "    </tr>\n",
       "    <tr>\n",
       "      <th>Nieuw-West</th>\n",
       "      <td>42</td>\n",
       "      <td>102</td>\n",
       "      <td>1</td>\n",
       "      <td>249</td>\n",
       "      <td>6</td>\n",
       "    </tr>\n",
       "    <tr>\n",
       "      <th>Noord</th>\n",
       "      <td>21</td>\n",
       "      <td>45</td>\n",
       "      <td>0</td>\n",
       "      <td>91</td>\n",
       "      <td>0</td>\n",
       "    </tr>\n",
       "    <tr>\n",
       "      <th>Oost</th>\n",
       "      <td>41</td>\n",
       "      <td>59</td>\n",
       "      <td>0</td>\n",
       "      <td>231</td>\n",
       "      <td>7</td>\n",
       "    </tr>\n",
       "    <tr>\n",
       "      <th>West</th>\n",
       "      <td>19</td>\n",
       "      <td>28</td>\n",
       "      <td>1</td>\n",
       "      <td>233</td>\n",
       "      <td>5</td>\n",
       "    </tr>\n",
       "    <tr>\n",
       "      <th>Zuid</th>\n",
       "      <td>4</td>\n",
       "      <td>2</td>\n",
       "      <td>0</td>\n",
       "      <td>66</td>\n",
       "      <td>1</td>\n",
       "    </tr>\n",
       "    <tr>\n",
       "      <th>Zuidoost</th>\n",
       "      <td>22</td>\n",
       "      <td>27</td>\n",
       "      <td>0</td>\n",
       "      <td>62</td>\n",
       "      <td>4</td>\n",
       "    </tr>\n",
       "  </tbody>\n",
       "</table>\n",
       "</div>"
      ],
      "text/plain": [
       "fractieOmschrijving     Glas  Papier  Plastic  Rest  Textiel\n",
       "eigenaarNaam                                                \n",
       "Amsterdam                  0       0        0    10        0\n",
       "Amsterdam Dump Locatie    76      88       13   422        6\n",
       "Centrum                    3       5        0     6        1\n",
       "Nieuw-West                42     102        1   249        6\n",
       "Noord                     21      45        0    91        0\n",
       "Oost                      41      59        0   231        7\n",
       "West                      19      28        1   233        5\n",
       "Zuid                       4       2        0    66        1\n",
       "Zuidoost                  22      27        0    62        4"
      ]
     },
     "execution_count": 327,
     "metadata": {},
     "output_type": "execute_result"
    }
   ],
   "source": [
    "count_data"
   ]
  },
  {
   "cell_type": "code",
   "execution_count": 328,
   "id": "0ee14b5c",
   "metadata": {},
   "outputs": [
    {
     "data": {
      "image/png": "[encoded data removed]",
      "text/plain": [
       "<Figure size 640x480 with 1 Axes>"
      ]
     },
     "metadata": {},
     "output_type": "display_data"
    }
   ],
   "source": [
    "count_data.plot(kind='barh', stacked=True, color=['#8dd3c7', '#ffffb3', '#bebada', '#fb8072', '#80b1d3'])\n",
    "plt.xlabel('')\n",
    "plt.ylabel('')\n",
    "plt.title('Count of Container Type per Location')\n",
    "plt.legend(title='Container Type')\n",
    "plt.show()"
   ]
  },
  {
   "cell_type": "markdown",
   "id": "8fbc8c15",
   "metadata": {},
   "source": [
    "## Bar Chart of Active and Inactive Containers"
   ]
  },
  {
   "cell_type": "code",
   "execution_count": 128,
   "id": "78b1ce88",
   "metadata": {},
   "outputs": [],
   "source": [
    "count_data2 = container[container.status != 2]"
   ]
  },
  {
   "cell_type": "code",
   "execution_count": 129,
   "id": "8c2fa804",
   "metadata": {
    "scrolled": true
   },
   "outputs": [],
   "source": [
    "count_data2 = count_data2.groupby('eigenaarNaam')['status'].value_counts().unstack(fill_value=0)"
   ]
  },
  {
   "cell_type": "code",
   "execution_count": 130,
   "id": "2de95552",
   "metadata": {},
   "outputs": [
    {
     "data": {
      "text/html": [
       "<div>\n",
       "<style scoped>\n",
       "    .dataframe tbody tr th:only-of-type {\n",
       "        vertical-align: middle;\n",
       "    }\n",
       "\n",
       "    .dataframe tbody tr th {\n",
       "        vertical-align: top;\n",
       "    }\n",
       "\n",
       "    .dataframe thead th {\n",
       "        text-align: right;\n",
       "    }\n",
       "</style>\n",
       "<table border=\"1\" class=\"dataframe\">\n",
       "  <thead>\n",
       "    <tr style=\"text-align: right;\">\n",
       "      <th>status</th>\n",
       "      <th>0</th>\n",
       "      <th>1</th>\n",
       "    </tr>\n",
       "    <tr>\n",
       "      <th>eigenaarNaam</th>\n",
       "      <th></th>\n",
       "      <th></th>\n",
       "    </tr>\n",
       "  </thead>\n",
       "  <tbody>\n",
       "    <tr>\n",
       "      <th>A Centrum</th>\n",
       "      <td>0</td>\n",
       "      <td>15</td>\n",
       "    </tr>\n",
       "    <tr>\n",
       "      <th>Amsterdam Dump Locatie</th>\n",
       "      <td>605</td>\n",
       "      <td>0</td>\n",
       "    </tr>\n",
       "    <tr>\n",
       "      <th>E West</th>\n",
       "      <td>10</td>\n",
       "      <td>276</td>\n",
       "    </tr>\n",
       "    <tr>\n",
       "      <th>F Nieuw-West</th>\n",
       "      <td>12</td>\n",
       "      <td>388</td>\n",
       "    </tr>\n",
       "    <tr>\n",
       "      <th>K Zuid</th>\n",
       "      <td>1</td>\n",
       "      <td>72</td>\n",
       "    </tr>\n",
       "    <tr>\n",
       "      <th>M Oost</th>\n",
       "      <td>11</td>\n",
       "      <td>327</td>\n",
       "    </tr>\n",
       "    <tr>\n",
       "      <th>N Noord</th>\n",
       "      <td>5</td>\n",
       "      <td>149</td>\n",
       "    </tr>\n",
       "    <tr>\n",
       "      <th>Stadswerken Amsterdam</th>\n",
       "      <td>5</td>\n",
       "      <td>5</td>\n",
       "    </tr>\n",
       "    <tr>\n",
       "      <th>T Zuidoost</th>\n",
       "      <td>1</td>\n",
       "      <td>114</td>\n",
       "    </tr>\n",
       "  </tbody>\n",
       "</table>\n",
       "</div>"
      ],
      "text/plain": [
       "status                    0    1\n",
       "eigenaarNaam                    \n",
       "A Centrum                 0   15\n",
       "Amsterdam Dump Locatie  605    0\n",
       "E West                   10  276\n",
       "F Nieuw-West             12  388\n",
       "K Zuid                    1   72\n",
       "M Oost                   11  327\n",
       "N Noord                   5  149\n",
       "Stadswerken Amsterdam     5    5\n",
       "T Zuidoost                1  114"
      ]
     },
     "execution_count": 130,
     "metadata": {},
     "output_type": "execute_result"
    }
   ],
   "source": [
    "count_data2"
   ]
  },
  {
   "cell_type": "code",
   "execution_count": 133,
   "id": "6c290d83",
   "metadata": {},
   "outputs": [
    {
     "data": {
      "image/png": "[encoded data removed]",
      "text/plain": [
       "<Figure size 1000x600 with 1 Axes>"
      ]
     },
     "metadata": {},
     "output_type": "display_data"
    }
   ],
   "source": [
    "count_data2.plot(kind='bar', stacked=False, color=['r', 'g'], zorder = 2, width = 0.9)\n",
    "plt.grid(axis='y', zorder=1)\n",
    "plt.xlabel('')\n",
    "plt.ylabel('')\n",
    "plt.title('The Number of Active and Inactive Trash Containers per Amsterdam District')\n",
    "plt.legend(title='Container Type', labels = {'Inactive': 0, 'Active': 1, 'Scheduled': 2})\n",
    "plt.xticks(ticks=range(len(count_data2.index)), labels=['Centrum', 'Dump', 'West', 'Nieuw-West', 'Zuid', 'Oost', 'Noord',\n",
    "          'Stadswerken', 'Zuidoost'], rotation = 0)\n",
    "plt.gcf().set_size_inches(10, 6)\n",
    "plt.show()"
   ]
  },
  {
   "cell_type": "markdown",
   "id": "d5c7536c",
   "metadata": {},
   "source": [
    "## Table of Container Lifespan per District"
   ]
  },
  {
   "cell_type": "markdown",
   "id": "c54aaccc",
   "metadata": {},
   "source": [
    "There are a lot of missing values in the ``datumOperationeel`` and the ``datumAflopenGarantie`` variables, but when we investigate virtually all of these are from inactive containers. Therefore this variable can still be used for analyses involving only active containers (albeit with the loss of 12 data points). "
   ]
  },
  {
   "cell_type": "code",
   "execution_count": 126,
   "id": "5577b1fb",
   "metadata": {},
   "outputs": [
    {
     "data": {
      "text/plain": [
       "0    240\n",
       "2      3\n",
       "1      1\n",
       "Name: status, dtype: int64"
      ]
     },
     "execution_count": 126,
     "metadata": {},
     "output_type": "execute_result"
    }
   ],
   "source": [
    "container[container.datumOperationeel.isna()].status.value_counts()"
   ]
  },
  {
   "cell_type": "code",
   "execution_count": 144,
   "id": "ee0d5b97",
   "metadata": {},
   "outputs": [
    {
     "data": {
      "text/plain": [
       "0    160\n",
       "1      5\n",
       "2      3\n",
       "Name: status, dtype: int64"
      ]
     },
     "execution_count": 144,
     "metadata": {},
     "output_type": "execute_result"
    }
   ],
   "source": [
    "container[container.datumAflopenGarantie.isna()].status.value_counts()"
   ]
  },
  {
   "cell_type": "code",
   "execution_count": 291,
   "id": "8f389bda",
   "metadata": {},
   "outputs": [],
   "source": [
    "lifecycle = container[(~container.datumOperationeel.isna()) & (~container.datumAflopenGarantie.isna()) & (container.status != 0)]"
   ]
  },
  {
   "cell_type": "code",
   "execution_count": 292,
   "id": "660fd362",
   "metadata": {},
   "outputs": [],
   "source": [
    "date_format = \"%d/%m/%Y\""
   ]
  },
  {
   "cell_type": "code",
   "execution_count": 293,
   "id": "519916d7",
   "metadata": {},
   "outputs": [],
   "source": [
    "lifecycle['datumOperationeel'] = lifecycle.datumOperationeel.apply(lambda x: datetime.strptime(x, date_format))\n",
    "lifecycle['datumAflopenGarantie'] = lifecycle.datumAflopenGarantie.apply(lambda x: datetime.strptime(x, date_format))"
   ]
  },
  {
   "cell_type": "code",
   "execution_count": 294,
   "id": "6785e46b",
   "metadata": {},
   "outputs": [
    {
     "data": {
      "text/plain": [
       "dtype('<M8[ns]')"
      ]
     },
     "execution_count": 294,
     "metadata": {},
     "output_type": "execute_result"
    }
   ],
   "source": [
    "lifecycle['datumAflopenGarantie'].dtype"
   ]
  },
  {
   "cell_type": "code",
   "execution_count": 295,
   "id": "786d954f",
   "metadata": {
    "scrolled": true
   },
   "outputs": [
    {
     "data": {
      "text/plain": [
       "dtype('<M8[ns]')"
      ]
     },
     "execution_count": 295,
     "metadata": {},
     "output_type": "execute_result"
    }
   ],
   "source": [
    "lifecycle.datumOperationeel.dtype"
   ]
  },
  {
   "cell_type": "code",
   "execution_count": 296,
   "id": "b6ec380f",
   "metadata": {},
   "outputs": [],
   "source": [
    "lifecycle['difference'] = (lifecycle.datumOperationeel - lifecycle.datumAflopenGarantie).abs()\n",
    "lifecycle['difference'] = lifecycle.difference.apply(lambda x: x.days)\n",
    "lifecycle['difference'] = lifecycle['difference'].values.astype(int)"
   ]
  },
  {
   "cell_type": "code",
   "execution_count": 297,
   "id": "9a05bc4a",
   "metadata": {},
   "outputs": [
    {
     "data": {
      "text/html": [
       "<div>\n",
       "<style scoped>\n",
       "    .dataframe tbody tr th:only-of-type {\n",
       "        vertical-align: middle;\n",
       "    }\n",
       "\n",
       "    .dataframe tbody tr th {\n",
       "        vertical-align: top;\n",
       "    }\n",
       "\n",
       "    .dataframe thead th {\n",
       "        text-align: right;\n",
       "    }\n",
       "</style>\n",
       "<table border=\"1\" class=\"dataframe\">\n",
       "  <thead>\n",
       "    <tr style=\"text-align: right;\">\n",
       "      <th></th>\n",
       "      <th>Avg. Container Lifespan in Days</th>\n",
       "    </tr>\n",
       "    <tr>\n",
       "      <th>District</th>\n",
       "      <th></th>\n",
       "    </tr>\n",
       "  </thead>\n",
       "  <tbody>\n",
       "    <tr>\n",
       "      <th>A Centrum</th>\n",
       "      <td>2201.20</td>\n",
       "    </tr>\n",
       "    <tr>\n",
       "      <th>E West</th>\n",
       "      <td>2416.16</td>\n",
       "    </tr>\n",
       "    <tr>\n",
       "      <th>F Nieuw-West</th>\n",
       "      <td>2415.76</td>\n",
       "    </tr>\n",
       "    <tr>\n",
       "      <th>K Zuid</th>\n",
       "      <td>2413.67</td>\n",
       "    </tr>\n",
       "    <tr>\n",
       "      <th>M Oost</th>\n",
       "      <td>1455.10</td>\n",
       "    </tr>\n",
       "    <tr>\n",
       "      <th>N Noord</th>\n",
       "      <td>2283.79</td>\n",
       "    </tr>\n",
       "    <tr>\n",
       "      <th>Stadswerken Amsterdam</th>\n",
       "      <td>1527.83</td>\n",
       "    </tr>\n",
       "    <tr>\n",
       "      <th>T Zuidoost</th>\n",
       "      <td>2130.79</td>\n",
       "    </tr>\n",
       "  </tbody>\n",
       "</table>\n",
       "</div>"
      ],
      "text/plain": [
       "                       Avg. Container Lifespan in Days\n",
       "District                                              \n",
       "A Centrum                                      2201.20\n",
       "E West                                         2416.16\n",
       "F Nieuw-West                                   2415.76\n",
       "K Zuid                                         2413.67\n",
       "M Oost                                         1455.10\n",
       "N Noord                                        2283.79\n",
       "Stadswerken Amsterdam                          1527.83\n",
       "T Zuidoost                                     2130.79"
      ]
     },
     "execution_count": 297,
     "metadata": {},
     "output_type": "execute_result"
    }
   ],
   "source": [
    "grouped_mean = lifecycle.groupby('eigenaarNaam')['difference'].mean().round(2).reset_index().rename(columns = {\"eigenaarNaam\": \"District\", \"difference\": \"Avg. Container Lifespan in Days\"})\n",
    "grouped_mean.set_index('District', inplace=True)\n",
    "grouped_mean"
   ]
  },
  {
   "cell_type": "markdown",
   "id": "4acb9008",
   "metadata": {},
   "source": [
    "## Linegraph with Cumulative Count of Active Containers"
   ]
  },
  {
   "cell_type": "code",
   "execution_count": 337,
   "id": "22befc5f",
   "metadata": {},
   "outputs": [
    {
     "data": {
      "image/png": "[encoded data removed]",
      "text/plain": [
       "<Figure size 1000x600 with 1 Axes>"
      ]
     },
     "metadata": {},
     "output_type": "display_data"
    }
   ],
   "source": [
    "fig, ax = plt.subplots(figsize=(10, 6))\n",
    "for category, data in lifecycle.groupby('eigenaarNaam'):\n",
    "    data.groupby(data['datumOperationeel'].dt.to_period('M')).size().cumsum().plot(ax=ax, label=category)\n",
    "ax.set_xlim(pd.Timestamp('2016-01-01'), '2021-01-01')\n",
    "ax.set_title('Total Number of Active Containers per Amsterdam District')\n",
    "ax.set_xlabel('')\n",
    "ax.set_ylabel('Number of Active Containers')\n",
    "ax.legend()\n",
    "plt.show()"
   ]
  },
  {
   "cell_type": "code",
   "execution_count": null,
   "id": "533d71bc",
   "metadata": {},
   "outputs": [],
   "source": []
  }
 ],
 "metadata": {
  "kernelspec": {
   "display_name": "Python 3 (ipykernel)",
   "language": "python",
   "name": "python3"
  },
  "language_info": {
   "codemirror_mode": {
    "name": "ipython",
    "version": 3
   },
   "file_extension": ".py",
   "mimetype": "text/x-python",
   "name": "python",
   "nbconvert_exporter": "python",
   "pygments_lexer": "ipython3",
   "version": "3.11.1"
  },
  "varInspector": {
   "cols": {
    "lenName": 16,
    "lenType": 16,
    "lenVar": 40
   },
   "kernels_config": {
    "python": {
     "delete_cmd_postfix": "",
     "delete_cmd_prefix": "del ",
     "library": "var_list.py",
     "varRefreshCmd": "print(var_dic_list())"
    },
    "r": {
     "delete_cmd_postfix": ") ",
     "delete_cmd_prefix": "rm(",
     "library": "var_list.r",
     "varRefreshCmd": "cat(var_dic_list()) "
    }
   },
   "types_to_exclude": [
    "module",
    "function",
    "builtin_function_or_method",
    "instance",
    "_Feature"
   ],
   "window_display": false
  }
 },
 "nbformat": 4,
 "nbformat_minor": 5
}
